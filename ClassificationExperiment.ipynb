{
 "cells": [
  {
   "cell_type": "markdown",
   "metadata": {},
   "source": [
    "1.Load the experiment data"
   ]
  },
  {
   "cell_type": "code",
   "execution_count": 27,
   "metadata": {
    "scrolled": true
   },
   "outputs": [
    {
     "name": "stdout",
     "output_type": "stream",
     "text": [
      "(690, 14)\n",
      "(690,)\n"
     ]
    }
   ],
   "source": [
    "from sklearn.datasets import load_svmlight_file\n",
    "X, y = load_svmlight_file(\"australian_scale\")\n",
    "print(X.shape)\n",
    "print(y.shape)"
   ]
  },
  {
   "cell_type": "markdown",
   "metadata": {},
   "source": [
    "2.Divide dataset"
   ]
  },
  {
   "cell_type": "code",
   "execution_count": 28,
   "metadata": {
    "collapsed": true
   },
   "outputs": [],
   "source": [
    "import numpy as np\n",
    "from sklearn.model_selection import train_test_split\n",
    "y=y.reshape(690,1)\n",
    "X_train, X_validation, y_train, y_validation = train_test_split(X, y ,test_size = 1/3.,random_state = 0)"
   ]
  },
  {
   "cell_type": "markdown",
   "metadata": {},
   "source": [
    "3.Initialize SVM model parameters"
   ]
  },
  {
   "cell_type": "code",
   "execution_count": 29,
   "metadata": {
    "collapsed": true
   },
   "outputs": [],
   "source": [
    "w=np.ones(14)\n",
    "w=w.reshape(14,1)\n",
    "alpha=0.01\n",
    "num_iters=150"
   ]
  },
  {
   "cell_type": "markdown",
   "metadata": {},
   "source": [
    "4.Choose loss function and derivation"
   ]
  },
  {
   "cell_type": "code",
   "execution_count": 30,
   "metadata": {
    "scrolled": true
   },
   "outputs": [],
   "source": [
    "def hinge_loss(w,X,y):\n",
    "    J,grad = 0,0\n",
    "    fit,y0=0,0\n",
    "    for j in range(X.shape[0]):\n",
    "        v = y[j]*((w.T).dot(X[j].todense().T)[0,0])\n",
    "        J += max(0,1-v)\n",
    "        grad += 0 if v > 1 else -y[j]*X[j].todense()\n",
    "        y0=1 if ((w.T).dot(X[j].todense().T))[0,0]>=0 else -1\n",
    "        if y0==y[j]:\n",
    "            fit+=1\n",
    "    fit_rate=fit/X.shape[0]\n",
    "    return (J,grad,fit_rate)"
   ]
  },
  {
   "cell_type": "markdown",
   "metadata": {},
   "source": [
    "5.Gradient descent"
   ]
  },
  {
   "cell_type": "code",
   "execution_count": 31,
   "metadata": {
    "collapsed": true
   },
   "outputs": [],
   "source": [
    "def gradientDescent(X,y,w,alpha=0.0005,num_iters=1500):\n",
    "    J_history=np.zeros(num_iters)\n",
    "    J_validation=np.zeros(num_iters)\n",
    "    fit_train=np.zeros(num_iters)\n",
    "    fit_validation=np.zeros(num_iters)\n",
    "    for i in range(num_iters):\n",
    "        J_history[i],grad0,fit_train[i] = hinge_loss(w,X,y)\n",
    "        J_validation[i],grad1,fit_validation[i] = hinge_loss(w,X_validation,y_validation)\n",
    "        w = w-alpha*grad0.T\n",
    "    return w,J_history,J_validation,fit_validation"
   ]
  },
  {
   "cell_type": "markdown",
   "metadata": {},
   "source": [
    "6.Graph"
   ]
  },
  {
   "cell_type": "code",
   "execution_count": 32,
   "metadata": {
    "scrolled": false
   },
   "outputs": [
    {
     "data": {
      "image/png": "[encoded data removed]",
      "text/plain": [
       "<matplotlib.figure.Figure at 0x1bd4ed37470>"
      ]
     },
     "metadata": {},
     "output_type": "display_data"
    },
    {
     "data": {
      "image/png": "[encoded data removed]",
      "text/plain": [
       "<matplotlib.figure.Figure at 0x1bd4ee999b0>"
      ]
     },
     "metadata": {},
     "output_type": "display_data"
    }
   ],
   "source": [
    "import matplotlib.pyplot as plt\n",
    "w,L_train,L_validation,F_validation=gradientDescent(X_train,y_train,w)\n",
    "def P_lossLine(l_train,l_validation):\n",
    "    plt.xlim(0,1500)\n",
    "    plt.ylim(0,400)\n",
    "    plt.plot(l_train)\n",
    "    plt.plot(l_validation)\n",
    "    plt.ylabel('Loss')\n",
    "    plt.xlabel('Iterations')\n",
    "    plt.show()\n",
    "def P_fitLine(f_validation):\n",
    "    plt.figure()\n",
    "    plt.xlim(0,1500)\n",
    "    plt.ylim(0,1)\n",
    "    plt.plot(f_validation)\n",
    "    plt.ylabel('Fit_rate')\n",
    "    plt.xlabel('Iterations')\n",
    "    plt.show()\n",
    "P_lossLine(L_train,L_validation) \n",
    "P_fitLine(F_validation)"
   ]
  }
 ],
 "metadata": {
  "kernelspec": {
   "display_name": "Python 3",
   "language": "python",
   "name": "python3"
  },
  "language_info": {
   "codemirror_mode": {
    "name": "ipython",
    "version": 3
   },
   "file_extension": ".py",
   "mimetype": "text/x-python",
   "name": "python",
   "nbconvert_exporter": "python",
   "pygments_lexer": "ipython3",
   "version": "3.6.3"
  }
 },
 "nbformat": 4,
 "nbformat_minor": 2
}
