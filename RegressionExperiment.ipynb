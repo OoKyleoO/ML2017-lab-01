{
 "cells": [
  {
   "cell_type": "markdown",
   "metadata": {},
   "source": [
    "1.Load the experiment data"
   ]
  },
  {
   "cell_type": "code",
   "execution_count": 1,
   "metadata": {
    "collapsed": true,
    "scrolled": true
   },
   "outputs": [],
   "source": [
    "from sklearn.datasets import load_svmlight_file\n",
    "X, y = load_svmlight_file(\"housing_scale\")"
   ]
  },
  {
   "cell_type": "markdown",
   "metadata": {},
   "source": [
    "2.Divide dataset"
   ]
  },
  {
   "cell_type": "code",
   "execution_count": 2,
   "metadata": {
    "collapsed": true
   },
   "outputs": [],
   "source": [
    "import numpy as np\n",
    "from sklearn.model_selection import train_test_split\n",
    "y=y.reshape(506,1)\n",
    "X_train, X_validation, y_train, y_validation = train_test_split(X, y ,test_size = 1/3.,random_state = 0)"
   ]
  },
  {
   "cell_type": "markdown",
   "metadata": {},
   "source": [
    "3.Initialize linear model parameters"
   ]
  },
  {
   "cell_type": "code",
   "execution_count": 3,
   "metadata": {
    "collapsed": true,
    "scrolled": true
   },
   "outputs": [],
   "source": [
    "theta=np.ones(13)\n",
    "theta=theta.reshape(13,1)\n",
    "alpha=0.01\n",
    "num_iters=1500\n"
   ]
  },
  {
   "cell_type": "markdown",
   "metadata": {},
   "source": [
    "4.Choose loss function and derivation"
   ]
  },
  {
   "cell_type": "code",
   "execution_count": 4,
   "metadata": {
    "collapsed": true
   },
   "outputs": [],
   "source": [
    "def computeCost(X,y,theta,lamda=0):\n",
    "    n=y.size\n",
    "    R=lamda*1.0/(2*n)*np.sum(np.square(theta))\n",
    "    J=(1.0/(2*n))*np.sum(np.square(X.dot(theta)-y))+R\n",
    "    return J"
   ]
  },
  {
   "cell_type": "markdown",
   "metadata": {},
   "source": [
    "5.Gradient descent"
   ]
  },
  {
   "cell_type": "code",
   "execution_count": 5,
   "metadata": {
    "collapsed": true,
    "scrolled": true
   },
   "outputs": [],
   "source": [
    "def gradientDescent(X,y,theta,alpha=0.5,num_iters=1500,lamda=0):\n",
    "    n=y.size\n",
    "    J_history=np.zeros(num_iters)\n",
    "    J_validation=np.zeros(num_iters)\n",
    "    for i in range(num_iters):\n",
    "        J_history[i]=computeCost(X,y,theta,lamda)\n",
    "        J_validation[i]=computeCost(X_validation,y_validation,theta,lamda)\n",
    "        deltaTheta=(1.0/n)*(X.T.dot(X.dot(theta)-y))+(lamda*1.0/n)*theta\n",
    "        theta=theta-alpha*deltaTheta\n",
    "    return theta,J_history,J_validation"
   ]
  },
  {
   "cell_type": "markdown",
   "metadata": {},
   "source": [
    "6.Graph"
   ]
  },
  {
   "cell_type": "code",
   "execution_count": 6,
   "metadata": {
    "scrolled": true
   },
   "outputs": [
    {
     "data": {
      "image/png": "[encoded data removed]",
      "text/plain": [
       "<matplotlib.figure.Figure at 0x2027f9496a0>"
      ]
     },
     "metadata": {},
     "output_type": "display_data"
    }
   ],
   "source": [
    "import matplotlib.pyplot as plt\n",
    "theta,L_train,L_validation=gradientDescent(X_train,y_train,theta,lamda=0.4)\n",
    "plt.xlim(0,1500)\n",
    "plt.ylim(0,100)\n",
    "plt.plot(L_train)\n",
    "plt.plot(L_validation)\n",
    "plt.ylabel('Loss')\n",
    "plt.xlabel('Iterations')\n",
    "plt.show()"
   ]
  }
 ],
 "metadata": {
  "kernelspec": {
   "display_name": "Python 3",
   "language": "python",
   "name": "python3"
  },
  "language_info": {
   "codemirror_mode": {
    "name": "ipython",
    "version": 3
   },
   "file_extension": ".py",
   "mimetype": "text/x-python",
   "name": "python",
   "nbconvert_exporter": "python",
   "pygments_lexer": "ipython3",
   "version": "3.6.3"
  }
 },
 "nbformat": 4,
 "nbformat_minor": 2
}
